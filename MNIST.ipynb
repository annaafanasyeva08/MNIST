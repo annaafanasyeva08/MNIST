{
 "cells": [
  {
   "cell_type": "code",
   "execution_count": 1,
   "metadata": {
    "scrolled": true
   },
   "outputs": [
    {
     "name": "stdout",
     "output_type": "stream",
     "text": [
      "Requirement already satisfied: tensorflow_datasets in /Users/annaromanova/opt/anaconda3/lib/python3.8/site-packages (4.4.0)\n",
      "Requirement already satisfied: future in /Users/annaromanova/opt/anaconda3/lib/python3.8/site-packages (from tensorflow_datasets) (0.18.2)\n",
      "Requirement already satisfied: absl-py in /Users/annaromanova/opt/anaconda3/lib/python3.8/site-packages (from tensorflow_datasets) (0.13.0)\n",
      "Requirement already satisfied: requests>=2.19.0 in /Users/annaromanova/opt/anaconda3/lib/python3.8/site-packages (from tensorflow_datasets) (2.24.0)\n",
      "Requirement already satisfied: tensorflow-metadata in /Users/annaromanova/opt/anaconda3/lib/python3.8/site-packages (from tensorflow_datasets) (1.2.0)\n",
      "Requirement already satisfied: termcolor in /Users/annaromanova/opt/anaconda3/lib/python3.8/site-packages (from tensorflow_datasets) (1.1.0)\n",
      "Requirement already satisfied: promise in /Users/annaromanova/opt/anaconda3/lib/python3.8/site-packages (from tensorflow_datasets) (2.3)\n",
      "Requirement already satisfied: protobuf>=3.12.2 in /Users/annaromanova/opt/anaconda3/lib/python3.8/site-packages (from tensorflow_datasets) (3.17.3)\n",
      "Requirement already satisfied: numpy in /Users/annaromanova/opt/anaconda3/lib/python3.8/site-packages (from tensorflow_datasets) (1.19.2)\n",
      "Requirement already satisfied: attrs>=18.1.0 in /Users/annaromanova/opt/anaconda3/lib/python3.8/site-packages (from tensorflow_datasets) (20.3.0)\n",
      "Requirement already satisfied: six in /Users/annaromanova/opt/anaconda3/lib/python3.8/site-packages (from tensorflow_datasets) (1.15.0)\n",
      "Requirement already satisfied: dill in /Users/annaromanova/opt/anaconda3/lib/python3.8/site-packages (from tensorflow_datasets) (0.3.4)\n",
      "Requirement already satisfied: importlib-resources; python_version < \"3.9\" in /Users/annaromanova/opt/anaconda3/lib/python3.8/site-packages (from tensorflow_datasets) (5.3.0)\n",
      "Requirement already satisfied: tqdm in /Users/annaromanova/opt/anaconda3/lib/python3.8/site-packages (from tensorflow_datasets) (4.50.2)\n",
      "Requirement already satisfied: idna<3,>=2.5 in /Users/annaromanova/opt/anaconda3/lib/python3.8/site-packages (from requests>=2.19.0->tensorflow_datasets) (2.10)\n",
      "Requirement already satisfied: chardet<4,>=3.0.2 in /Users/annaromanova/opt/anaconda3/lib/python3.8/site-packages (from requests>=2.19.0->tensorflow_datasets) (3.0.4)\n",
      "Requirement already satisfied: certifi>=2017.4.17 in /Users/annaromanova/opt/anaconda3/lib/python3.8/site-packages (from requests>=2.19.0->tensorflow_datasets) (2020.6.20)\n",
      "Requirement already satisfied: urllib3!=1.25.0,!=1.25.1,<1.26,>=1.21.1 in /Users/annaromanova/opt/anaconda3/lib/python3.8/site-packages (from requests>=2.19.0->tensorflow_datasets) (1.25.11)\n",
      "Requirement already satisfied: googleapis-common-protos<2,>=1.52.0 in /Users/annaromanova/opt/anaconda3/lib/python3.8/site-packages (from tensorflow-metadata->tensorflow_datasets) (1.53.0)\n",
      "Requirement already satisfied: zipp>=3.1.0; python_version < \"3.10\" in /Users/annaromanova/opt/anaconda3/lib/python3.8/site-packages (from importlib-resources; python_version < \"3.9\"->tensorflow_datasets) (3.4.0)\n",
      "Note: you may need to restart the kernel to use updated packages.\n"
     ]
    }
   ],
   "source": [
    "pip install tensorflow_datasets"
   ]
  },
  {
   "cell_type": "code",
   "execution_count": 1,
   "metadata": {},
   "outputs": [],
   "source": [
    "import numpy as np \n",
    "import pandas as pd\n",
    "import tensorflow as tf\n",
    "\n",
    "import tensorflow_datasets as tfds"
   ]
  },
  {
   "cell_type": "code",
   "execution_count": 2,
   "metadata": {},
   "outputs": [],
   "source": [
    "mnist_dataset, mnist_info = tfds.load(name='mnist',with_info = True, as_supervised=True)"
   ]
  },
  {
   "cell_type": "code",
   "execution_count": 3,
   "metadata": {},
   "outputs": [],
   "source": [
    "mnist_train, mnist_test = mnist_dataset['train'], mnist_dataset['test']\n",
    "\n",
    "num_validation_samples = 0.1 * mnist_info.splits['train'].num_examples\n",
    "num_validation_samples = tf.cast(num_validation_samples, tf.int64)\n",
    "\n",
    "num_test_samples = mnist_info.splits['test'].num_examples\n",
    "num_test_samples = tf.cast(num_test_samples, tf.int64)\n",
    "\n",
    "\n",
    "#scaling the data \n",
    "def scale(image, label):\n",
    "    image = tf.cast(image, tf.float32)\n",
    "    image /= 255.\n",
    "    return image, label\n",
    "\n",
    "scaled_train_and_validation_data = mnist_train.map(scale) \n",
    "\n",
    "test_data = mnist_test.map(scale)\n",
    "\n",
    "BUFFER_SIZE = 10000 \n",
    "\n",
    "shuffled_train_and_validation_data = scaled_train_and_validation_data.shuffle(BUFFER_SIZE)\n",
    "\n",
    "validation_data = shuffled_train_and_validation_data.take(num_validation_samples)\n",
    "train_data = shuffled_train_and_validation_data.skip(num_validation_samples)\n",
    "\n",
    "#making batches\n",
    "\n",
    "BATCH_SIZE = 100\n",
    "\n",
    "train_data = train_data.batch(BATCH_SIZE)\n",
    "validation_data = validation_data.batch(num_validation_samples)\n",
    "test_data = test_data.batch(num_test_samples)\n",
    "\n",
    "validation_inputs, validation_targets = next(iter(validation_data))\n"
   ]
  },
  {
   "cell_type": "code",
   "execution_count": 4,
   "metadata": {},
   "outputs": [],
   "source": [
    "#Outlining the model\n",
    "\n",
    "input_size = 784\n",
    "output_size = 10\n",
    "hidden_layer_size = 170\n",
    "early_stopping = tf.keras.callbacks.EarlyStopping(patience=2)\n",
    "# for improvement might try different size of a hidden layer, and different sizes for different ones \n",
    "# our data (from tfds) is such that each input is 28x28x1 \n",
    "model = tf.keras.Sequential([\n",
    "                            tf.keras.layers.Flatten(input_shape=(28,28,1)),\n",
    "                            tf.keras.layers.Dense(hidden_layer_size, activation='relu'),\n",
    "                            tf.keras.layers.Dense(hidden_layer_size, activation='tanh'),\n",
    "                            tf.keras.layers.Dense(output_size, activation='softmax')\n",
    "                            ])"
   ]
  },
  {
   "cell_type": "code",
   "execution_count": 5,
   "metadata": {},
   "outputs": [],
   "source": [
    "#choosing the optimizer and loss fucntion\n",
    "\n",
    "model.compile(optimizer='adam', loss ='sparse_categorical_crossentropy', metrics=['accuracy'])"
   ]
  },
  {
   "cell_type": "code",
   "execution_count": 6,
   "metadata": {},
   "outputs": [
    {
     "name": "stdout",
     "output_type": "stream",
     "text": [
      "Epoch 1/5\n",
      "540/540 - 6s - loss: 0.2740 - accuracy: 0.9197 - val_loss: 0.1317 - val_accuracy: 0.9588\n",
      "Epoch 2/5\n",
      "540/540 - 3s - loss: 0.1065 - accuracy: 0.9677 - val_loss: 0.0892 - val_accuracy: 0.9718\n",
      "Epoch 3/5\n",
      "540/540 - 3s - loss: 0.0710 - accuracy: 0.9781 - val_loss: 0.0615 - val_accuracy: 0.9810\n",
      "Epoch 4/5\n",
      "540/540 - 3s - loss: 0.0516 - accuracy: 0.9836 - val_loss: 0.0489 - val_accuracy: 0.9847\n",
      "Epoch 5/5\n",
      "540/540 - 3s - loss: 0.0396 - accuracy: 0.9877 - val_loss: 0.0440 - val_accuracy: 0.9863\n"
     ]
    },
    {
     "data": {
      "text/plain": [
       "<keras.callbacks.History at 0x7f935ab4e370>"
      ]
     },
     "execution_count": 6,
     "metadata": {},
     "output_type": "execute_result"
    }
   ],
   "source": [
    "#training\n",
    "\n",
    "NUM_EPOCHS = 5\n",
    "\n",
    "model.fit(train_data, epochs = NUM_EPOCHS, validation_data =(validation_inputs, validation_targets), verbose=2)\n"
   ]
  },
  {
   "cell_type": "code",
   "execution_count": 9,
   "metadata": {},
   "outputs": [
    {
     "name": "stdout",
     "output_type": "stream",
     "text": [
      "1/1 [==============================] - 0s 315ms/step - loss: 0.0835 - accuracy: 0.9750\n"
     ]
    }
   ],
   "source": [
    "test_loss, test_accuracy = model.evaluate(test_data)"
   ]
  },
  {
   "cell_type": "code",
   "execution_count": 10,
   "metadata": {},
   "outputs": [
    {
     "name": "stdout",
     "output_type": "stream",
     "text": [
      "Test loss: 0.08. Test accuracy: 97.50%\n"
     ]
    }
   ],
   "source": [
    "print ('Test loss: {0:.2f}. Test accuracy: {1:.2f}%'.format(test_loss, test_accuracy * 100.))"
   ]
  },
  {
   "cell_type": "code",
   "execution_count": null,
   "metadata": {},
   "outputs": [],
   "source": []
  }
 ],
 "metadata": {
  "kernelspec": {
   "display_name": "Python py3-TF2.0",
   "language": "python",
   "name": "py3-tf2.0"
  },
  "language_info": {
   "codemirror_mode": {
    "name": "ipython",
    "version": 3
   },
   "file_extension": ".py",
   "mimetype": "text/x-python",
   "name": "python",
   "nbconvert_exporter": "python",
   "pygments_lexer": "ipython3",
   "version": "3.8.5"
  }
 },
 "nbformat": 4,
 "nbformat_minor": 4
}
